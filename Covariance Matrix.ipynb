{
 "cells": [
  {
   "cell_type": "code",
   "execution_count": null,
   "metadata": {},
   "outputs": [],
   "source": [
    "import numpy as np\n",
    "import pandas\n",
    "\n",
    "def covariance(set1,set2):\n",
    "    x_mean = np.mean(set1)\n",
    "    y_mean = np.mean(set2)\n",
    "    total_sum = 0\n",
    "    for x,y in zip(set1,set2):\n",
    "       total_sum += x-x_mean*y-y_mean\n",
    "    covariance = total_sum/(len(set1)-1)\n",
    "    return covariance\n",
    "\n",
    "    \n",
    "    "
   ]
  },
  {
   "cell_type": "code",
   "execution_count": null,
   "metadata": {},
   "outputs": [],
   "source": [
    "def covariance_matrix(x,y,z):\n",
    "    matricies = [[covariance(x,x),covariance(x,y),covariance(x,z)],\n",
    "               [covariance(y,x),covariance(y,y),covariance(y,z)],\n",
    "               [covariance(z,x),covariance(z,y),covariance(z,z)]]\n",
    "    return matricies\n",
    "x = np.array([1,1,1,1])\n",
    "y = np.array([1,2,3,4])\n",
    "z = np.array([1,1,2,3])\n",
    "print([[covariance(x,x),covariance(x,y),covariance(x,z)],\n",
    "       [covariance(y,x),covariance(y,y),covariance(y,z)],\n",
    "      [covariance(z,x),covariance(z,y),covariance(z,z)]])\n",
    "cov_matrix_xyz = covariance_matrix(x,y,z)\n",
    "test_cov_xyz = np.cov([x,y,z])\n",
    "print(cov_matrix_xyz)\n",
    "print(test_cov_xyz)"
   ]
  }
 ],
 "metadata": {
  "kernelspec": {
   "display_name": "Python 3",
   "language": "python",
   "name": "python3"
  },
  "language_info": {
   "codemirror_mode": {
    "name": "ipython",
    "version": 3
   },
   "file_extension": ".py",
   "mimetype": "text/x-python",
   "name": "python",
   "nbconvert_exporter": "python",
   "pygments_lexer": "ipython3",
   "version": "3.7.4"
  }
 },
 "nbformat": 4,
 "nbformat_minor": 2
}
