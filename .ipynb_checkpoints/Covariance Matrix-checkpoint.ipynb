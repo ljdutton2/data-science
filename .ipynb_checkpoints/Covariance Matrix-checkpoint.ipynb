{
 "cells": [
  {
   "cell_type": "code",
   "execution_count": null,
   "metadata": {},
   "outputs": [],
   "source": [
    "import numpy as np\n",
    "import pandas\n",
    "\n",
    "def covariance_(set1,set2):\n",
    "    x_mean = np.mean(set1)\n",
    "    y_mean = np.mean(set2)\n",
    "    total_sum = 0\n",
    "    for x,y in zip(set1,set2):\n",
    "       total_sum += x-x_mean*y-y_mean\n",
    "    covariance = total_sum/(len(set1)-1)\n",
    "    return covariance\n",
    "\n",
    "    \n",
    "    "
   ]
  }
 ],
 "metadata": {
  "kernelspec": {
   "display_name": "Python 3",
   "language": "python",
   "name": "python3"
  },
  "language_info": {
   "codemirror_mode": {
    "name": "ipython",
    "version": 3
   },
   "file_extension": ".py",
   "mimetype": "text/x-python",
   "name": "python",
   "nbconvert_exporter": "python",
   "pygments_lexer": "ipython3",
   "version": "3.7.4"
  }
 },
 "nbformat": 4,
 "nbformat_minor": 2
}
