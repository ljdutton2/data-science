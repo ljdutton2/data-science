{
 "cells": [
  {
   "cell_type": "code",
   "execution_count": null,
   "metadata": {},
   "outputs": [],
   "source": [
    "#Pt 1. Given the above probabilities for $P(H)$ and $P(T)$, \n",
    "#if we toss this coin three times, what is the probability \n",
    "#that we get some combination of two heads and one tail?\n",
    "\n",
    "0.38\n",
    "\n"
   ]
  },
  {
   "cell_type": "markdown",
   "metadata": {},
   "source": [
    "Combination: Way to calculate the total # of outcomes of an event when the order doesnt matter. "
   ]
  },
  {
   "cell_type": "code",
   "execution_count": null,
   "metadata": {},
   "outputs": [],
   "source": [
    "def verify_head(prob_head,num_flips):\n",
    "    3/8\n",
    "    \n",
    "    num_options = 2\n",
    "    den = 2**num_flips\n",
    "    \n",
    "    n = 3\n",
    "    r = 2\n",
    "    \n",
    "    # \n",
    "    # n choose r\n",
    "    # n - number of items, (3)\n",
    "    # r - number of choices per 'event' - (2)\n",
    "    \n",
    "    # HHH, TTT, HHT, TTH"
   ]
  },
  {
   "cell_type": "code",
   "execution_count": 5,
   "metadata": {},
   "outputs": [
    {
     "data": {
      "text/plain": [
       "3.0"
      ]
     },
     "execution_count": 5,
     "metadata": {},
     "output_type": "execute_result"
    }
   ],
   "source": [
    "import math\n",
    "n = 3\n",
    "r = 2\n",
    "math.factorial(n)/(math.factorial((n-r))*math.factorial(r))"
   ]
  },
  {
   "cell_type": "code",
   "execution_count": null,
   "metadata": {},
   "outputs": [],
   "source": []
  }
 ],
 "metadata": {
  "kernelspec": {
   "display_name": "Python 3",
   "language": "python",
   "name": "python3"
  },
  "language_info": {
   "codemirror_mode": {
    "name": "ipython",
    "version": 3
   },
   "file_extension": ".py",
   "mimetype": "text/x-python",
   "name": "python",
   "nbconvert_exporter": "python",
   "pygments_lexer": "ipython3",
   "version": "3.7.4"
  }
 },
 "nbformat": 4,
 "nbformat_minor": 2
}
